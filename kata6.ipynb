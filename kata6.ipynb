{
 "cells": [
  {
   "cell_type": "code",
   "execution_count": 1,
   "metadata": {},
   "outputs": [
    {
     "name": "stdout",
     "output_type": "stream",
     "text": [
      "El numero de planetas: 8 que hay en el sistema solar\n",
      "Pluton es el ultimo planeta\n"
     ]
    }
   ],
   "source": [
    "planetas = ['Mercurio','Venus','Tierra', 'Marte', 'Jupiter', 'Saturno', 'Uranio', 'Neptuno']\n",
    "numero_de_planetas = len(planetas)\n",
    "print('El numero de planetas:', numero_de_planetas,'que hay en el sistema solar')\n",
    "planetas.append('Pluton')\n",
    "numero_de_planetas = len(planetas)\n",
    "print(planetas[-1],'es el ultimo planeta')"
   ]
  },
  {
   "cell_type": "code",
   "execution_count": 2,
   "metadata": {},
   "outputs": [
    {
     "name": "stdout",
     "output_type": "stream",
     "text": [
      "El planeta mas cercano al sol es: Jupiter en la posición: 5\n",
      "['Mercurio', 'Venus', 'Tierra', 'Marte']\n",
      "El planeta mas alejano del sol es: Jupiter en la posición: 5\n",
      "['Saturno', 'Uranio', 'Neptuno']\n"
     ]
    }
   ],
   "source": [
    "planetas = ['Mercurio','Venus','Tierra', 'Marte', 'Jupiter', 'Saturno', 'Uranio', 'Neptuno']\n",
    "solicitud_planeta = input('Introduzca el nombre del planeta mas cercano al sol (inicie con la primera letra en mayuscula)')\n",
    "planeta_buscado = planetas.index(solicitud_planeta)\n",
    "print(f'El planeta mas cercano al sol es: {solicitud_planeta} en la posición: {planeta_buscado+1}')\n",
    "print(planetas[0:planeta_buscado])\n",
    "print('El planeta mas alejano del sol es:', solicitud_planeta,'en la posición:', planeta_buscado+1)\n",
    "print(planetas[planeta_buscado + 1:])"
   ]
  }
 ],
 "metadata": {
  "interpreter": {
   "hash": "757b38fd474c29231d375c510631011e3e69f946640f847dd8530a55584b380f"
  },
  "kernelspec": {
   "display_name": "Python 3.9.10 64-bit (windows store)",
   "language": "python",
   "name": "python3"
  },
  "language_info": {
   "codemirror_mode": {
    "name": "ipython",
    "version": 3
   },
   "file_extension": ".py",
   "mimetype": "text/x-python",
   "name": "python",
   "nbconvert_exporter": "python",
   "pygments_lexer": "ipython3",
   "version": "3.7.3"
  },
  "orig_nbformat": 4
 },
 "nbformat": 4,
 "nbformat_minor": 2
}
