{
 "cells": [
  {
   "cell_type": "code",
   "execution_count": 17,
   "metadata": {},
   "outputs": [
    {
     "name": "stdout",
     "output_type": "stream",
     "text": [
      "The Moon is Earth's only satellite\n",
      "There are several interesting facts about the Moon and how it affects life here on Earth\n",
      "This yearly drift is not significant enough to cause immediate effects on Earth\n",
      "The highe\n",
      "Interesting facts about the Moon\n",
      "The Moon is Earth's only satellite\n",
      "There are several interesting facts about the Moon and how it affects life here on Earth\n",
      "This yearly drift is not significant enough to cause immediate effects on Earth\n",
      "The highe\n"
     ]
    }
   ],
   "source": [
    "text = \"\"\"Interesting facts about the Moon. The Moon is Earth's only satellite. There are several interesting facts about the Moon and how it affects life here on Earth. \n",
    "On average, the Moon moves 4cm away from the Earth every year. This yearly drift is not significant enough to cause immediate effects on Earth. The highe\"\"\"\n",
    "\n",
    "text_dividido = text.split('. ')\n",
    "\n",
    "##print (text_dividido)\n",
    "\n",
    "palabras = {\"avarege\", \"temperatura\", \"distance\"}\n",
    "\n",
    "for sentence in text_dividido:\n",
    "    for palabras in palabras:\n",
    "        if palabras in sentence:\n",
    "            print(sentence)\n",
    "            break\n",
    "\n",
    "for sentence in text_dividido:\n",
    "    for palabras in palabras:\n",
    "        if palabras in sentence:\n",
    "            print(sentence.replace(' C', ' Celsius'))\n",
    "            break"
   ]
  },
  {
   "cell_type": "code",
   "execution_count": 19,
   "metadata": {},
   "outputs": [
    {
     "name": "stdout",
     "output_type": "stream",
     "text": [
      "Gravedad En La Tierra Y La Luna\n",
      "--------------------------------------------------------------------------------\n",
      "Nombre del planeta: Tierra\n",
      "Gravedad en Luna: 1.6199999999999999 m/s2\n",
      "Gravedad En La Tierra Y La Luna\n",
      "--------------------------------------------------------------------------------\n",
      "Nombre del planeta: Tierra\n",
      "Gravedad en Luna: 1.6199999999999999 m/s2\n",
      "////////////////////////////////////////////////////////////////////////////////\n",
      "Gravedad En Marte Y Genímedes\n",
      "--------------------------------------------------------------------------------\n",
      "Nombre del planeta: Marte\n",
      "Gravedad en Genímedes: 1.4300000000000002 m/s2\n",
      "\n",
      "Datos de Gravedad sobre: Genímedes\n",
      "-------------------------------------------------------------------------------\n",
      "Nombre del planeta: Marte\n",
      "Gravedad en Genímedes: 1.4300000000000002 m/s2\n",
      "\n"
     ]
    }
   ],
   "source": [
    "name = \"Luna\"\n",
    "gravity = 0.00162 # in kms\n",
    "planet = \"Tierra\"\n",
    "\n",
    "titulo = (\"\"\"Gravedad en la {0} y la {1}\"\"\").format(planet, name)\n",
    "\n",
    "##titulo.title()\n",
    "\n",
    "guion = f\"\"\"{'-'*80}\n",
    "Nombre del planeta: {planet}\n",
    "Gravedad en {name}: {gravity*1000} m/s2\"\"\"\n",
    "\n",
    "template = f\"\"\"{titulo.title()}\n",
    "{guion}\"\"\"\n",
    "\n",
    "print(template)\n",
    "\n",
    "name = 'Genímedes'\n",
    "gravity = 0.00143 # in kms\n",
    "planet = 'Marte'\n",
    "\n",
    "print(template)\n",
    "\n",
    "titulo = (\"\"\"Gravedad en {planet} y {name}\"\"\").format(planet=planet, name=name)\n",
    "\n",
    "##titulo.title()\n",
    "\n",
    "guion = f\"\"\"{'-'*80}\n",
    "Nombre del planeta: {planet}\n",
    "Gravedad en {name}: {gravity*1000} m/s2\"\"\"\n",
    "\n",
    "template2 = f\"\"\"{'/'*80}\n",
    "{titulo.title()}\n",
    "{guion}\"\"\"\n",
    "\n",
    "print(template2)\n",
    "\n",
    "new_template = \"\"\"\n",
    "Datos de Gravedad sobre: {name}\n",
    "-------------------------------------------------------------------------------\n",
    "Nombre del planeta: {planet}\n",
    "Gravedad en {name}: {gravity} m/s2\n",
    "\"\"\"\n",
    "print(new_template.format(name=name, planet=planet, gravity=gravity*1000))\n"
   ]
  }
 ],
 "metadata": {
  "interpreter": {
   "hash": "757b38fd474c29231d375c510631011e3e69f946640f847dd8530a55584b380f"
  },
  "kernelspec": {
   "display_name": "Python 3.9.10 64-bit (windows store)",
   "language": "python",
   "name": "python3"
  },
  "language_info": {
   "codemirror_mode": {
    "name": "ipython",
    "version": 3
   },
   "file_extension": ".py",
   "mimetype": "text/x-python",
   "name": "python",
   "nbconvert_exporter": "python",
   "pygments_lexer": "ipython3",
   "version": "3.9.10"
  },
  "orig_nbformat": 4
 },
 "nbformat": 4,
 "nbformat_minor": 2
}
