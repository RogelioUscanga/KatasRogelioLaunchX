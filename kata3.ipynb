{
 "cells": [
  {
   "cell_type": "code",
   "execution_count": 12,
   "metadata": {},
   "outputs": [
    {
     "name": "stdout",
     "output_type": "stream",
     "text": [
      "Alerta el asteroide se acerca demasiado rapido\n"
     ]
    }
   ],
   "source": [
    "asteroide = 49\n",
    "\n",
    "if asteroide > 25:\n",
    "    print(\"Alerta el asteroide se acerca demasiado rapido\")\n",
    "else:\n",
    "    print(\"No hay algún peligro\")"
   ]
  },
  {
   "cell_type": "code",
   "execution_count": 11,
   "metadata": {},
   "outputs": [
    {
     "name": "stdout",
     "output_type": "stream",
     "text": [
      "Se ve un reyo de luz\n"
     ]
    }
   ],
   "source": [
    "asteroide = 19\n",
    "\n",
    "if asteroide > 20:\n",
    "    print(\"Se ve un reyo de luz\")\n",
    "elif asteroide == 20:\n",
    "    print(\"Se ve un rayo de luz\")\n",
    "else:\n",
    "    print(\"No hay algun problema\")"
   ]
  },
  {
   "cell_type": "code",
   "execution_count": 27,
   "metadata": {},
   "outputs": [
    {
     "name": "stdout",
     "output_type": "stream",
     "text": [
      "Hay un preligroso asteroide\n",
      "Alerta del asteroide su velocidad es peligrosa\n",
      "Se ve un rayo de luz\n"
     ]
    }
   ],
   "source": [
    "tamaño_asteroide = 160\n",
    "velocidad_asteroide = 27\n",
    "\n",
    "if tamaño_asteroide > 25 and tamaño_asteroide < 1000:\n",
    "    print(\"Hay un preligroso asteroide\")\n",
    "    if velocidad_asteroide > 25:\n",
    "        print(\"Alerta del asteroide su velocidad es peligrosa\")\n",
    "    else:\n",
    "        print(\"No hay ningun problema con la velocidad del asteroide\")\n",
    "    if velocidad_asteroide >= 20:\n",
    "        print(\"Se ve un rayo de luz\")\n",
    "    else:\n",
    "        print(\"No se ve nada\")\n",
    "else:\n",
    "    print(\"Aqui no pasa nada\")"
   ]
  }
 ],
 "metadata": {
  "interpreter": {
   "hash": "757b38fd474c29231d375c510631011e3e69f946640f847dd8530a55584b380f"
  },
  "kernelspec": {
   "display_name": "Python 3.9.10 64-bit (windows store)",
   "language": "python",
   "name": "python3"
  },
  "language_info": {
   "codemirror_mode": {
    "name": "ipython",
    "version": 3
   },
   "file_extension": ".py",
   "mimetype": "text/x-python",
   "name": "python",
   "nbconvert_exporter": "python",
   "pygments_lexer": "ipython3",
   "version": "3.7.3"
  },
  "orig_nbformat": 4
 },
 "nbformat": 4,
 "nbformat_minor": 2
}
