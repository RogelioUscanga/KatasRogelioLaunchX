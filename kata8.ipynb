{
 "cells": [
  {
   "cell_type": "code",
   "execution_count": 7,
   "metadata": {},
   "outputs": [
    {
     "name": "stdout",
     "output_type": "stream",
     "text": [
      "Nombre: Marte y la cantida de las lunas son: 2\n",
      "Nombre: Marte su circunferencia polar es: 6752\n"
     ]
    }
   ],
   "source": [
    "planeta = {\n",
    "    'nombre': 'Marte',\n",
    "    'luna': 2\n",
    "}\n",
    "print(f'Nombre: {planeta[\"nombre\"]} y la cantida de las lunas son: {planeta[\"luna\"]}')\n",
    "planeta['circunferencia_km'] = {\n",
    "    'polar': 6752,\n",
    "    'equatorial': 6792\n",
    "}\n",
    "print(f'Nombre: {planeta[\"nombre\"]} su circunferencia polar es: {planeta[\"circunferencia_km\"][\"polar\"]}')"
   ]
  },
  {
   "cell_type": "code",
   "execution_count": 11,
   "metadata": {},
   "outputs": [
    {
     "name": "stdout",
     "output_type": "stream",
     "text": [
      "17.833333333333332\n"
     ]
    }
   ],
   "source": [
    "planet_moons = {\n",
    "    'mercury': 0,\n",
    "    'venus': 0,\n",
    "    'earth': 1,\n",
    "    'mars': 2,\n",
    "    'jupiter': 79,\n",
    "    'saturn': 82,\n",
    "    'uranus': 27,\n",
    "    'neptune': 14,\n",
    "    'pluto': 5,\n",
    "    'haumea': 2,\n",
    "    'makemake': 1,\n",
    "    'eris': 1\n",
    "}\n",
    "\n",
    "lunas = planet_moons.values()\n",
    "\n",
    "\n",
    "planetas = len(planet_moons.keys())\n",
    "\n",
    "total_moons=0\n",
    "for luna in lunas:\n",
    "    total_moons=total_moons+luna\n",
    "\n",
    "avarege=total_moons/planetas\n",
    "print(avarege)"
   ]
  }
 ],
 "metadata": {
  "interpreter": {
   "hash": "757b38fd474c29231d375c510631011e3e69f946640f847dd8530a55584b380f"
  },
  "kernelspec": {
   "display_name": "Python 3.9.10 64-bit (windows store)",
   "language": "python",
   "name": "python3"
  },
  "language_info": {
   "codemirror_mode": {
    "name": "ipython",
    "version": 3
   },
   "file_extension": ".py",
   "mimetype": "text/x-python",
   "name": "python",
   "nbconvert_exporter": "python",
   "pygments_lexer": "ipython3",
   "version": "3.9.10"
  },
  "orig_nbformat": 4
 },
 "nbformat": 4,
 "nbformat_minor": 2
}
