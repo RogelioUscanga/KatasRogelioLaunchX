{
 "cells": [
  {
   "cell_type": "code",
   "execution_count": 2,
   "metadata": {},
   "outputs": [
    {
     "name": "stdout",
     "output_type": "stream",
     "text": [
      "628949330\n",
      "390810874\n"
     ]
    }
   ],
   "source": [
    "planeta_uno = 149597870\n",
    "planeta_dos = 778547200\n",
    "\n",
    "distancia_km = planeta_dos - planeta_uno\n",
    "print(distancia_km)\n",
    "\n",
    "distancia_mi = distancia_km * 0.621371\n",
    "print(round(distancia_mi))"
   ]
  },
  {
   "cell_type": "code",
   "execution_count": 3,
   "metadata": {},
   "outputs": [
    {
     "name": "stdout",
     "output_type": "stream",
     "text": [
      "479351460\n",
      "297855096\n"
     ]
    }
   ],
   "source": [
    "planeta_uno = input(\"Introduzca la distancia del planeta 1 al sol\")\n",
    "planeta_dos = input(\"Introduzca la distancia del planeta 2 al sol\")\n",
    "\n",
    "planeta_uno = int(planeta_uno)\n",
    "planeta_dos = int(planeta_dos)\n",
    "\n",
    "distancia_km = planeta_dos - planeta_uno\n",
    "print(abs(distancia_km))\n",
    "\n",
    "distancia_mi = distancia_km * 0.621371\n",
    "print(round(abs(distancia_mi)))"
   ]
  }
 ],
 "metadata": {
  "interpreter": {
   "hash": "757b38fd474c29231d375c510631011e3e69f946640f847dd8530a55584b380f"
  },
  "kernelspec": {
   "display_name": "Python 3.9.10 64-bit (windows store)",
   "language": "python",
   "name": "python3"
  },
  "language_info": {
   "codemirror_mode": {
    "name": "ipython",
    "version": 3
   },
   "file_extension": ".py",
   "mimetype": "text/x-python",
   "name": "python",
   "nbconvert_exporter": "python",
   "pygments_lexer": "ipython3",
   "version": "3.7.3"
  },
  "orig_nbformat": 4
 },
 "nbformat": 4,
 "nbformat_minor": 2
}
