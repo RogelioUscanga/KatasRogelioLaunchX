{
 "cells": [
  {
   "cell_type": "code",
   "execution_count": 6,
   "metadata": {},
   "outputs": [],
   "source": [
    "def tanques(tanque1, tanque2, tanque3):\n",
    "    return f'''La cantida que hay en los tanques es: \n",
    "    Porciento total de los tanques: {round(promedio(tanque1,tanque2,tanque3))}%\n",
    "    Porciento del tanque numero uno: {tanque1}%\n",
    "    Porciento del tanque numero dos: {tanque2}%\n",
    "    Porciento del tanque numero tres: {tanque3}%'''\n",
    "\n",
    "\n",
    "\n",
    "\n",
    "\n",
    "\n"
   ]
  },
  {
   "cell_type": "code",
   "execution_count": 4,
   "metadata": {},
   "outputs": [],
   "source": [
    "def promedio(tanque1, tanque2, tanque3):\n",
    "    return (tanque1+tanque2+tanque3)/3"
   ]
  },
  {
   "cell_type": "code",
   "execution_count": 7,
   "metadata": {},
   "outputs": [
    {
     "name": "stdout",
     "output_type": "stream",
     "text": [
      "La cantida que hay en los tanques es: \n",
      "    Porciento total de los tanques: 71%\n",
      "    Porciento del tanque numero uno: 88%\n",
      "    Porciento del tanque numero dos: 50%\n",
      "    Porciento del tanque numero tres: 76%\n"
     ]
    }
   ],
   "source": [
    "print(tanques(88,50,76))"
   ]
  },
  {
   "cell_type": "code",
   "execution_count": 2,
   "metadata": {},
   "outputs": [
    {
     "name": "stdout",
     "output_type": "stream",
     "text": [
      "Destino de la mision: Luna\n",
      "    Total de tiempo en el viaje: 65 minutos\n",
      "    Total de almacenamiento del tanque: 500000 galones\n"
     ]
    }
   ],
   "source": [
    "def informe_mision(prelanzamiento, tiempo_vuelo, destino, tanque_externo, tanque_interno):\n",
    "    return f'''Destino de la mision: {destino}\n",
    "    Total de tiempo en el viaje: {prelanzamiento+tiempo_vuelo} minutos\n",
    "    Total de almacenamiento del tanque: {tanque_externo+tanque_interno} galones'''\n",
    "\n",
    "print(informe_mision(14,51,'Luna',200000,300000))"
   ]
  },
  {
   "cell_type": "code",
   "execution_count": 11,
   "metadata": {},
   "outputs": [
    {
     "name": "stdout",
     "output_type": "stream",
     "text": [
      "Destino de la mision: Luna\n",
      "    Total de tiempo en el viaje: 74 minutos\n",
      "    Total de almacenamiento del tanque: 500000 galones\n"
     ]
    }
   ],
   "source": [
    "def mision2(destino,*minutes,**fuel_reservoirs):\n",
    "    return f'''Destino de la mision: {destino}\n",
    "    Total de tiempo en el viaje: {sum(minutes)} minutos\n",
    "    Total de almacenamiento del tanque: {sum(fuel_reservoirs.values())} galones'''\n",
    "\n",
    "print(mision2('Luna',8,11,55,principal=300000,externo=200000))"
   ]
  },
  {
   "cell_type": "code",
   "execution_count": 15,
   "metadata": {},
   "outputs": [
    {
     "name": "stdout",
     "output_type": "stream",
     "text": [
      "Destino de la mision: Luna\n",
      "    Total de tiempo en el viaje: 74 minutos\n",
      "    Total de almacenamiento del tanque: 500000 galones\n",
      "    \n",
      "        principal tanque\n",
      "        300000 gallones faltantes\n",
      "        \n",
      "        externo tanque\n",
      "        200000 gallones faltantes\n",
      "        \n"
     ]
    }
   ],
   "source": [
    "def mision3(destino,*minutes,**fuel_reservoirs):\n",
    "    primer_reporte = f'''Destino de la mision: {destino}\n",
    "    Total de tiempo en el viaje: {sum(minutes)} minutos\n",
    "    Total de almacenamiento del tanque: {sum(fuel_reservoirs.values())} galones\n",
    "    '''\n",
    "\n",
    "    for nombre_tanque, gallones in fuel_reservoirs.items():\n",
    "        primer_reporte += f'''\n",
    "        {nombre_tanque} tanque\n",
    "        {gallones} gallones\n",
    "        '''\n",
    "    return primer_reporte\n",
    "\n",
    "print(mision3('Luna',8,11,55,principal=300000,externo=200000))"
   ]
  },
  {
   "cell_type": "code",
   "execution_count": null,
   "metadata": {},
   "outputs": [],
   "source": []
  }
 ],
 "metadata": {
  "interpreter": {
   "hash": "757b38fd474c29231d375c510631011e3e69f946640f847dd8530a55584b380f"
  },
  "kernelspec": {
   "display_name": "Python 3.9.10 64-bit (windows store)",
   "language": "python",
   "name": "python3"
  },
  "language_info": {
   "codemirror_mode": {
    "name": "ipython",
    "version": 3
   },
   "file_extension": ".py",
   "mimetype": "text/x-python",
   "name": "python",
   "nbconvert_exporter": "python",
   "pygments_lexer": "ipython3",
   "version": "3.7.3"
  },
  "orig_nbformat": 4
 },
 "nbformat": 4,
 "nbformat_minor": 2
}
